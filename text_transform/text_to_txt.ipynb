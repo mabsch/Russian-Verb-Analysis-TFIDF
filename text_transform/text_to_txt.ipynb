{
 "cells": [
  {
   "cell_type": "code",
   "execution_count": 1,
   "metadata": {},
   "outputs": [],
   "source": [
    "import docx2txt\n",
    "from pdfminer.high_level import extract_text\n",
    "import os\n",
    "import time"
   ]
  },
  {
   "cell_type": "code",
   "execution_count": 2,
   "metadata": {},
   "outputs": [],
   "source": [
    "# Transformer functions\n",
    "def extract_text_from_docx(docx_path):\n",
    "    with open(docx_path, 'rb') as docx_file:\n",
    "        TEXT = docx2txt.process(docx_file)\n",
    "    return TEXT\n",
    "\n",
    "def extract_text_from_pdf(pdf_path):\n",
    "    with open(pdf_path, 'rb') as pdf_file:\n",
    "        TEXT  = extract_text(pdf_file)\n",
    "    return TEXT\n"
   ]
  },
  {
   "cell_type": "code",
   "execution_count": 9,
   "metadata": {},
   "outputs": [],
   "source": [
    "#File paths and target files\n",
    "pdf_file_paths  = ('texts_alpha\\\\native\\\\pdfs', 'texts_alpha\\\\nonnative\\\\pdfs', 'texts_alpha\\\\class')\n",
    "doc_file_paths  = ('texts_alpha\\\\native\\\\docxs', 'texts_alpha\\\\nonnative\\\\docxs', 'texts_alpha\\\\class\\\\docxs')\n",
    "pdf_txt_name    = 'pdf'\n",
    "doc_txt_name    = 'doc'\n",
    "target_folders  = ('text_transform\\\\texts_alpha\\\\native\\\\txts', 'text_transform\\\\texts_alpha\\\\nonnative\\\\txts', 'text_transform\\\\texts_alpha\\\\class\\\\txts')\n",
    "ext             = ('.pdf', '.docx','.txt')"
   ]
  },
  {
   "cell_type": "code",
   "execution_count": 7,
   "metadata": {},
   "outputs": [],
   "source": [
    "def file_to_txt(filepath,target_folder):\n",
    "    ext             = ('.pdf', '.docx','.txt')\n",
    "    \n",
    "    for count, files in enumerate(os.listdir(filepath)):\n",
    "        if files.endswith(ext[0]):\n",
    "            target_file         = f\"{filepath}\\\\{files}\"\n",
    "            target_file_name    = f\"..\\\\{target_folder}\\\\pdf_{count}.txt\"\n",
    "            txt_result          = extract_text_from_pdf(target_file)\n",
    "            with open(target_file_name, 'w', encoding='utf-8') as txt_file:\n",
    "                txt_file.write(txt_result)\n",
    "        if files.endswith(ext[1]):\n",
    "            target_file         = f\"{filepath}\\\\{files}\"\n",
    "            target_file_name    = f\"..\\\\{target_folder}\\\\doc_{count}.txt\"\n",
    "            txt_result = extract_text_from_docx(target_file)\n",
    "            with open(target_file_name, 'w', encoding='utf-8') as txt_file:\n",
    "                txt_file.write(txt_result)\n",
    "        else:\n",
    "            pass\n",
    "    print(f'Total docs transformed = {count + 1}')"
   ]
  },
  {
   "cell_type": "markdown",
   "metadata": {},
   "source": [
    "Non-Native PDFs and DOCs to TXT"
   ]
  },
  {
   "cell_type": "code",
   "execution_count": 10,
   "metadata": {},
   "outputs": [
    {
     "name": "stdout",
     "output_type": "stream",
     "text": [
      "Total docs transformed = 52\n"
     ]
    }
   ],
   "source": [
    "file_to_txt(doc_file_paths[2], target_folders[2])"
   ]
  }
 ],
 "metadata": {
  "kernelspec": {
   "display_name": "russ_env",
   "language": "python",
   "name": "python3"
  },
  "language_info": {
   "codemirror_mode": {
    "name": "ipython",
    "version": 3
   },
   "file_extension": ".py",
   "mimetype": "text/x-python",
   "name": "python",
   "nbconvert_exporter": "python",
   "pygments_lexer": "ipython3",
   "version": "3.8.10"
  }
 },
 "nbformat": 4,
 "nbformat_minor": 2
}
